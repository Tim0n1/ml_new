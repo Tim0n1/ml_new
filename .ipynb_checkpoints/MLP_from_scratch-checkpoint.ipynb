{
 "cells": [
  {
   "cell_type": "code",
   "execution_count": 3,
   "id": "566132c7",
   "metadata": {},
   "outputs": [],
   "source": [
    "import numpy as np\n"
   ]
  },
  {
   "cell_type": "code",
   "execution_count": 28,
   "id": "8868095e",
   "metadata": {},
   "outputs": [],
   "source": [
    "class Perceptrone:\n",
    "    def __init__(self, inputs: np.ndarray ,outputs: np.ndarray, layers: list):\n",
    "        assert outputs.shape[-1] == layers[-1] and outputs.shape[0] == inputs.shape[0], 'check output dims sir'\n",
    "        self.inputs = inputs.reshape(inputs.shape[0:-1])\n",
    "        self.outputs = outputs.reshape(outputs.shape[0:-1])\n",
    "        self.dim = inputs.ndim\n",
    "        self.shape = inputs.shape\n",
    "        self.layers = layers\n",
    "        self.weights = []\n",
    "        self.biases = []\n",
    "        \n",
    "    def _initialize_weights(self):\n",
    "        matrix_shape = []\n",
    "        weight_tensors = []\n",
    "        bias_vectors = []\n",
    "\n",
    "        for i in range(len(self.layers) - 1):\n",
    "            \n",
    "            matrix_shape.append((self.layers[i], self.layers[i+1]))\n",
    "            weight_matrix = np.random.uniform(size=matrix_shape[i])\n",
    "            bias_vector = np.random.uniform(size=(1, self.layers[i+1]))\n",
    "\n",
    "            bias_vectors.append(bias_vector)\n",
    "            weight_tensors.append(weight_matrix)\n",
    "            \n",
    "        self.biases = bias_vectors\n",
    "        self.weights = weight_tensors\n",
    "        \n",
    "    def forward_pass(self):\n",
    "        inputs = self.inputs\n",
    "        for weight_matrix, bias_vector in zip(self.weights, self.biases):\n",
    "            inputs = np.matmul(inputs, weight_matrix) + bias_vector\n",
    "            print(inputs)\n",
    "            inputs = self._sigmoid(inputs)\n",
    "            print(inputs.shape)\n",
    "        print(f'inputs - {inputs}')\n",
    "        print(f'output - {outputs}')\n",
    "        loss = self.mse(inputs, outputs)\n",
    "        print(f'loss - {loss}')\n",
    "        return loss\n",
    "        \n",
    "    def mse(self, x, y):\n",
    "        return (x - y)**2\n",
    "        \n",
    "        \n",
    "    def _sigmoid(self, x):\n",
    "        return 1/(1 + np.exp(-x))\n",
    "    \n",
    "    def compute_gradient(self, loss):\n",
    "        grads = []\n",
    "        for i in self.weights.reverse():\n",
    "            grad = gradient(i, loss)\n",
    "        \n",
    "    \n",
    "    def fit(self, lr):\n",
    "        for i in epoch:\n",
    "            loss = forward_pass()\n",
    "            grads = compute_gradient(loss)\n",
    "            self.weights = optimizer(grads, weights)\n",
    "\n",
    "            \n",
    "        \n",
    "        "
   ]
  },
  {
   "cell_type": "code",
   "execution_count": 29,
   "id": "c5f799c7",
   "metadata": {},
   "outputs": [],
   "source": [
    "inputs = np.random.normal(size=(1,64,1))\n",
    "outputs = np.random.normal(size=(1,1))"
   ]
  },
  {
   "cell_type": "code",
   "execution_count": null,
   "id": "173cf8d8",
   "metadata": {},
   "outputs": [],
   "source": []
  },
  {
   "cell_type": "code",
   "execution_count": 30,
   "id": "008ce2e5",
   "metadata": {},
   "outputs": [],
   "source": [
    "perceptrone = Perceptrone(inputs,outputs, [64,32,16,1])"
   ]
  },
  {
   "cell_type": "code",
   "execution_count": 31,
   "id": "998e9806",
   "metadata": {},
   "outputs": [
    {
     "name": "stdout",
     "output_type": "stream",
     "text": [
      "[[-0.54863369  1.77796411 -3.04489441 -3.01386134 -4.0175457  -1.27599461\n",
      "   0.67271762 -0.65356601 -1.98480429  0.41401478  1.04362667 -2.69796786\n",
      "   1.99688302 -3.56246781 -4.91502727 -3.44617063 -2.03952155 -2.54496901\n",
      "  -9.05470987  0.95860651 -3.23225929 -3.88881971  2.12858545  1.06150474\n",
      "  -4.34354603 -0.69055097  0.10430038 -1.55301402 -4.5603335  -2.72593204\n",
      "  -6.03310821 -9.40577573]]\n",
      "(1, 32)\n",
      "[[5.73058263 4.44945506 5.59693724 4.65473599 4.38706462 5.0541827\n",
      "  5.49960867 6.67763242 3.76191641 5.62885835 5.19780667 3.68103332\n",
      "  4.96760846 5.14808623 5.12904001 5.09480713]]\n",
      "(1, 16)\n",
      "[[8.68726578]]\n",
      "(1, 1)\n",
      "inputs - [[0.99983131]]\n",
      "output - [[-1.84044121]]\n",
      "loss - [[8.06714796]]\n"
     ]
    },
    {
     "data": {
      "text/plain": [
       "array([[8.06714796]])"
      ]
     },
     "execution_count": 31,
     "metadata": {},
     "output_type": "execute_result"
    }
   ],
   "source": [
    "perceptrone._initialize_weights()\n",
    "perceptrone.forward_pass()"
   ]
  },
  {
   "cell_type": "code",
   "execution_count": null,
   "id": "b12b20c3",
   "metadata": {},
   "outputs": [],
   "source": []
  },
  {
   "cell_type": "code",
   "execution_count": null,
   "id": "6ec90d57",
   "metadata": {},
   "outputs": [],
   "source": []
  }
 ],
 "metadata": {
  "kernelspec": {
   "display_name": "Python 3 (ipykernel)",
   "language": "python",
   "name": "python3"
  },
  "language_info": {
   "codemirror_mode": {
    "name": "ipython",
    "version": 3
   },
   "file_extension": ".py",
   "mimetype": "text/x-python",
   "name": "python",
   "nbconvert_exporter": "python",
   "pygments_lexer": "ipython3",
   "version": "3.11.5"
  },
  "widgets": {
   "application/vnd.jupyter.widget-state+json": {
    "state": {},
    "version_major": 2,
    "version_minor": 0
   }
  }
 },
 "nbformat": 4,
 "nbformat_minor": 5
}
