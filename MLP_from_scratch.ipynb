{
 "cells": [
  {
   "cell_type": "code",
   "execution_count": 1,
   "id": "566132c7",
   "metadata": {},
   "outputs": [],
   "source": [
    "import numpy as np\n"
   ]
  },
  {
   "cell_type": "code",
   "execution_count": 2,
   "id": "8868095e",
   "metadata": {},
   "outputs": [],
   "source": [
    "class Perceptrone:\n",
    "    def __init__(self, inputs: np.ndarray ,outputs: np.ndarray, layers: list):\n",
    "        assert outputs.shape[-1] == layers[-1] and outputs.shape[0] == inputs.shape[0], 'check output dims sir'\n",
    "        self.inputs = inputs.reshape(inputs.shape[0:-1])\n",
    "        self.outputs = outputs.reshape(outputs.shape[0:-1])\n",
    "        self.dim = inputs.ndim\n",
    "        self.shape = inputs.shape\n",
    "        self.layers = layers\n",
    "        self.weights = []\n",
    "        self.biases = []\n",
    "        \n",
    "    def _initialize_weights(self):\n",
    "        matrix_shape = []\n",
    "        weight_tensors = []\n",
    "        bias_vectors = []\n",
    "\n",
    "        for i in range(len(self.layers) - 1):\n",
    "            \n",
    "            matrix_shape.append((self.layers[i], self.layers[i+1]))\n",
    "            weight_matrix = np.random.uniform(size=matrix_shape[i])\n",
    "            bias_vector = np.random.uniform(size=(1, self.layers[i+1]))\n",
    "\n",
    "            bias_vectors.append(bias_vector)\n",
    "            weight_tensors.append(weight_matrix)\n",
    "            \n",
    "        self.biases = bias_vectors\n",
    "        self.weights = weight_tensors\n",
    "        \n",
    "    def forward_pass(self):\n",
    "        inputs = self.inputs\n",
    "        for weight_matrix, bias_vector in zip(self.weights, self.biases):\n",
    "            inputs = np.matmul(inputs, weight_matrix) + bias_vector\n",
    "            inputs = self._sigmoid(inputs)\n",
    "            print(inputs.shape)\n",
    "        print(f'inputs - {inputs}')\n",
    "        print(f'output - {outputs}')\n",
    "        loss = self.mse(inputs, outputs)\n",
    "        print(f'loss - {loss}')\n",
    "        return loss\n",
    "        \n",
    "    def mse(self, x, y):\n",
    "        return (x - y)**2\n",
    "        \n",
    "        \n",
    "    def _sigmoid(self, x):\n",
    "        return 1/(1 + np.exp(-x))\n",
    "    \n",
    "    def compute_gradient(self, loss):\n",
    "        grads = []\n",
    "        for i in self.weights.reverse():\n",
    "            grad = gradient(i, loss)\n",
    "        \n",
    "    \n",
    "    def fit(self, lr):\n",
    "        for i in epoch:\n",
    "            loss = forward_pass()\n",
    "            grads = compute_gradient(loss)\n",
    "            self.weights = optimizer(grads, weights)\n",
    "\n",
    "            \n",
    "        \n",
    "        "
   ]
  },
  {
   "cell_type": "code",
   "execution_count": 3,
   "id": "c5f799c7",
   "metadata": {},
   "outputs": [],
   "source": [
    "inputs = np.random.normal(size=(1,64,1))\n",
    "outputs = np.random.normal(size=(1,1))"
   ]
  },
  {
   "cell_type": "code",
   "execution_count": null,
   "id": "173cf8d8",
   "metadata": {},
   "outputs": [],
   "source": []
  },
  {
   "cell_type": "code",
   "execution_count": 4,
   "id": "008ce2e5",
   "metadata": {},
   "outputs": [],
   "source": [
    "perceptrone = Perceptrone(inputs,outputs, [64,32,16,1])"
   ]
  },
  {
   "cell_type": "code",
   "execution_count": 5,
   "id": "998e9806",
   "metadata": {},
   "outputs": [
    {
     "name": "stdout",
     "output_type": "stream",
     "text": [
      "[[ 6.11847311  7.32476321  9.30642729  4.04129006  6.48644501  3.93711216\n",
      "   3.7610057   5.91762401  9.87438712  4.62321451  4.90012741  6.97452646\n",
      "   5.22137813 -1.03697484  9.84183108  5.20870191  1.14969353  3.32117239\n",
      "   4.44035165  7.3657719   2.29222953  7.49819698  1.12271452  3.56117671\n",
      "   5.22047067  5.58966536  0.74417975  6.29154663  4.1610566   1.78336284\n",
      "  -2.40218532  4.20558373]]\n",
      "(1, 32)\n",
      "[[17.3417217  17.19440546 16.80621153 14.53606564 13.49701446 14.34374172\n",
      "  14.47167184 17.33580526 19.20982936 14.66915036 15.28689091 18.59358733\n",
      "  16.98469315 13.22989942 17.08200812 15.01337828]]\n",
      "(1, 16)\n",
      "[[10.21389972]]\n",
      "(1, 1)\n",
      "inputs - [[0.99996334]]\n",
      "output - [[-0.64255141]]\n",
      "loss - [[2.69785471]]\n"
     ]
    },
    {
     "data": {
      "text/plain": [
       "array([[2.69785471]])"
      ]
     },
     "execution_count": 5,
     "metadata": {},
     "output_type": "execute_result"
    }
   ],
   "source": [
    "perceptrone._initialize_weights()\n",
    "perceptrone.forward_pass()"
   ]
  },
  {
   "cell_type": "code",
   "execution_count": null,
   "id": "b12b20c3",
   "metadata": {},
   "outputs": [],
   "source": []
  },
  {
   "cell_type": "code",
   "execution_count": null,
   "id": "6ec90d57",
   "metadata": {},
   "outputs": [],
   "source": []
  }
 ],
 "metadata": {
  "kernelspec": {
   "display_name": "Python 3 (ipykernel)",
   "language": "python",
   "name": "python3"
  },
  "language_info": {
   "codemirror_mode": {
    "name": "ipython",
    "version": 3
   },
   "file_extension": ".py",
   "mimetype": "text/x-python",
   "name": "python",
   "nbconvert_exporter": "python",
   "pygments_lexer": "ipython3",
   "version": "3.11.7"
  },
  "widgets": {
   "application/vnd.jupyter.widget-state+json": {
    "state": {},
    "version_major": 2,
    "version_minor": 0
   }
  }
 },
 "nbformat": 4,
 "nbformat_minor": 5
}
